{
 "cells": [
  {
   "cell_type": "markdown",
   "metadata": {},
   "source": [
    "## h5pyd"
   ]
  },
  {
   "cell_type": "code",
   "execution_count": 2,
   "metadata": {},
   "outputs": [],
   "source": [
    "import h5pyd"
   ]
  },
  {
   "cell_type": "code",
   "execution_count": 7,
   "metadata": {},
   "outputs": [],
   "source": [
    "# esto es remoto, coge la info de ~/.hscfg\n",
    "name = '/home/ecimadevilla/test/tas_3hr_GFDL-ESM2M_rcp85_r1i1p1_2096010100-2100123123.nc4'\n",
    "file = h5pyd.File(name, 'r')"
   ]
  },
  {
   "cell_type": "code",
   "execution_count": 8,
   "metadata": {},
   "outputs": [
    {
     "data": {
      "text/plain": [
       "{'datasets': ['d-a48415b3-f9e0a385-2c11-117d01-44de88',\n",
       "  'd-a48415b3-f9e0a385-3036-7f7382-124906',\n",
       "  'd-a48415b3-f9e0a385-683b-9a3591-3b6b88',\n",
       "  'd-a48415b3-f9e0a385-6a30-cc3393-81fb85',\n",
       "  'd-a48415b3-f9e0a385-7f01-138d36-a5c922',\n",
       "  'd-a48415b3-f9e0a385-a67f-612f7e-e9c4d2',\n",
       "  'd-a48415b3-f9e0a385-b5bb-cf1901-010494',\n",
       "  'd-a48415b3-f9e0a385-dd75-70b380-f70581'],\n",
       " 'hrefs': [{'rel': 'self',\n",
       "   'href': 'http://hsds.hdf.test/datasets?domain=/home/ecimadevilla/test/tas_3hr_GFDL-ESM2M_rcp85_r1i1p1_2096010100-2100123123.nc4'},\n",
       "  {'rel': 'root',\n",
       "   'href': 'http://hsds.hdf.test/groups/g-a48415b3-f9e0a385-2c0c-9d3b71-682b0d?domain=/home/ecimadevilla/test/tas_3hr_GFDL-ESM2M_rcp85_r1i1p1_2096010100-2100123123.nc4'},\n",
       "  {'rel': 'home',\n",
       "   'href': 'http://hsds.hdf.test/?domain=/home/ecimadevilla/test/tas_3hr_GFDL-ESM2M_rcp85_r1i1p1_2096010100-2100123123.nc4'}]}"
      ]
     },
     "execution_count": 8,
     "metadata": {},
     "output_type": "execute_result"
    }
   ],
   "source": [
    "file.GET('/datasets')"
   ]
  },
  {
   "cell_type": "code",
   "execution_count": 9,
   "metadata": {},
   "outputs": [
    {
     "data": {
      "text/plain": [
       "{'value': [-89.49438202247192,\n",
       "  -87.97752808988764,\n",
       "  -85.95505617977527,\n",
       "  -83.93258426966293,\n",
       "  -81.91011235955057,\n",
       "  -79.88764044943821,\n",
       "  -77.86516853932585,\n",
       "  -75.84269662921348,\n",
       "  -73.82022471910112,\n",
       "  -71.79775280898876,\n",
       "  -69.7752808988764,\n",
       "  -67.75280898876404,\n",
       "  -65.73033707865169,\n",
       "  -63.707865168539335,\n",
       "  -61.68539325842697,\n",
       "  -59.662921348314605,\n",
       "  -57.64044943820225,\n",
       "  -55.61797752808988,\n",
       "  -53.59550561797753,\n",
       "  -51.573033707865164,\n",
       "  -49.5505617977528,\n",
       "  -47.52808988764045,\n",
       "  -45.50561797752808,\n",
       "  -43.48314606741573,\n",
       "  -41.46067415730337,\n",
       "  -39.43820224719101,\n",
       "  -37.41573033707865,\n",
       "  -35.39325842696629,\n",
       "  -33.370786516853926,\n",
       "  -31.348314606741578,\n",
       "  -29.325842696629216,\n",
       "  -27.303370786516854,\n",
       "  -25.280898876404496,\n",
       "  -23.258426966292138,\n",
       "  -21.235955056179776,\n",
       "  -19.213483146067418,\n",
       "  -17.19101123595506,\n",
       "  -15.168539325842703,\n",
       "  -13.146067415730343,\n",
       "  -11.123595505617978,\n",
       "  -9.101123595505612,\n",
       "  -7.078651685393254,\n",
       "  -5.056179775280896,\n",
       "  -3.0337078651685374,\n",
       "  -1.0112359550561791,\n",
       "  1.0112359550561791,\n",
       "  3.0337078651685374,\n",
       "  5.056179775280896,\n",
       "  7.078651685393254,\n",
       "  9.101123595505612,\n",
       "  11.123595505617978,\n",
       "  13.146067415730343,\n",
       "  15.168539325842703,\n",
       "  17.19101123595506,\n",
       "  19.213483146067418,\n",
       "  21.235955056179776,\n",
       "  23.258426966292138,\n",
       "  25.280898876404496,\n",
       "  27.30337078651685,\n",
       "  29.325842696629206,\n",
       "  31.34831460674157,\n",
       "  33.370786516853926,\n",
       "  35.3932584269663,\n",
       "  37.41573033707866,\n",
       "  39.43820224719101,\n",
       "  41.46067415730337,\n",
       "  43.48314606741573,\n",
       "  45.50561797752808,\n",
       "  47.52808988764045,\n",
       "  49.5505617977528,\n",
       "  51.573033707865164,\n",
       "  53.59550561797752,\n",
       "  55.61797752808988,\n",
       "  57.64044943820224,\n",
       "  59.66292134831459,\n",
       "  61.685393258426956,\n",
       "  63.70786516853931,\n",
       "  65.73033707865167,\n",
       "  67.75280898876404,\n",
       "  69.77528089887642,\n",
       "  71.79775280898878,\n",
       "  73.82022471910113,\n",
       "  75.84269662921349,\n",
       "  77.86516853932585,\n",
       "  79.88764044943821,\n",
       "  81.91011235955057,\n",
       "  83.93258426966293,\n",
       "  85.95505617977527,\n",
       "  87.97752808988764,\n",
       "  89.49438202247192],\n",
       " 'hrefs': [{'rel': 'self',\n",
       "   'href': 'http://hsds.hdf.test/datasets/d-a48415b3-f9e0a385-a67f-612f7e-e9c4d2/value?domain=/home/ecimadevilla/test/tas_3hr_GFDL-ESM2M_rcp85_r1i1p1_2096010100-2100123123.nc4'},\n",
       "  {'rel': 'root',\n",
       "   'href': 'http://hsds.hdf.test/groups/g-a48415b3-f9e0a385-2c0c-9d3b71-682b0d?domain=/home/ecimadevilla/test/tas_3hr_GFDL-ESM2M_rcp85_r1i1p1_2096010100-2100123123.nc4'},\n",
       "  {'rel': 'home',\n",
       "   'href': 'http://hsds.hdf.test/?domain=/home/ecimadevilla/test/tas_3hr_GFDL-ESM2M_rcp85_r1i1p1_2096010100-2100123123.nc4'},\n",
       "  {'rel': 'owner',\n",
       "   'href': 'http://hsds.hdf.test/datasets/d-a48415b3-f9e0a385-a67f-612f7e-e9c4d2?domain=/home/ecimadevilla/test/tas_3hr_GFDL-ESM2M_rcp85_r1i1p1_2096010100-2100123123.nc4'}]}"
      ]
     },
     "execution_count": 9,
     "metadata": {},
     "output_type": "execute_result"
    }
   ],
   "source": [
    "file.GET('/datasets/d-a48415b3-f9e0a385-a67f-612f7e-e9c4d2/value')"
   ]
  },
  {
   "cell_type": "markdown",
   "metadata": {},
   "source": [
    "## xarray"
   ]
  },
  {
   "cell_type": "code",
   "execution_count": 2,
   "metadata": {},
   "outputs": [],
   "source": [
    "import xarray"
   ]
  },
  {
   "cell_type": "code",
   "execution_count": 5,
   "metadata": {},
   "outputs": [],
   "source": [
    "name = '/home/ecimadevilla/test/tas_3hr_GFDL-ESM2M_rcp85_r1i1p1_2096010100-2100123123.nc4'\n",
    "url = 'http://hsds.hdf.test' + name\n",
    "ds = xarray.open_dataset(url, engine='h5netcdf', decode_cf=True)"
   ]
  },
  {
   "cell_type": "code",
   "execution_count": 6,
   "metadata": {},
   "outputs": [
    {
     "data": {
      "text/plain": [
       "<xarray.Dataset>\n",
       "Dimensions:   (bnds: 2, lat: 90, lon: 144, time: 14600)\n",
       "Coordinates:\n",
       "    height    float64 ...\n",
       "  * lat       (lat) float64 -89.49 -87.98 -85.96 -83.93 ... 85.96 87.98 89.49\n",
       "  * lon       (lon) float64 1.25 3.75 6.25 8.75 ... 351.3 353.8 356.2 358.8\n",
       "  * time      (time) datetime64[ns] 2095-12-10T03:00:00 ... 2100-12-09\n",
       "Dimensions without coordinates: bnds\n",
       "Data variables:\n",
       "    lat_bnds  (lat, bnds) float64 ...\n",
       "    lon_bnds  (lon, bnds) float64 ...\n",
       "    tas       (time, lat, lon) float32 ...\n",
       "Attributes:\n",
       "    Conventions:            CF-1.4\n",
       "    branch_time:            52925\n",
       "    comment:                GFDL experiment name = ESM2M-HC1_2006-2100_all_rc...\n",
       "    contact:                gfdl.climate.model.info@noaa.gov\n",
       "    creation_date:          2011-08-12T11:15:28Z\n",
       "    experiment:             RCP8.5\n",
       "    experiment_id:          rcp85\n",
       "    forcing:                GHG,SD,Oz,LU,SS,BC,MD,OC (GHG includes CO2, CH4, ...\n",
       "    frequency:              3hr\n",
       "    gfdl_experiment_name:   ESM2M-HC1_2006-2100_all_rcp85_ZC1\n",
       "    history:                File was processed by fremetar (GFDL analog of CM...\n",
       "    initialization_method:  [1]\n",
       "    institute_id:           NOAA GFDL\n",
       "    institution:            NOAA GFDL(201 Forrestal Rd, Princeton, NJ, 08540)\n",
       "    model_id:               GFDL-ESM2M\n",
       "    modeling_realm:         atmos\n",
       "    parent_experiment_id:   historical\n",
       "    parent_experiment_rip:  r1i1p1\n",
       "    physics_version:        [1]\n",
       "    product:                output1\n",
       "    project_id:             CMIP5\n",
       "    realization:            [1]\n",
       "    references:             The GFDL Data Portal (http://nomads.gfdl.noaa.gov...\n",
       "    source:                 GFDL-ESM2M 2010 ocean: MOM4 (MOM4p1_x1_Z50_cCM2M,...\n",
       "    table_id:               Table 3hr (31 Jan 2011)\n",
       "    title:                  NOAA GFDL GFDL-ESM2M, RCP8.5 (run 1) experiment o...\n",
       "    tracking_id:            ae418a5a-cd26-459b-93de-c73b7f4d188d"
      ]
     },
     "execution_count": 6,
     "metadata": {},
     "output_type": "execute_result"
    }
   ],
   "source": [
    "ds"
   ]
  },
  {
   "cell_type": "code",
   "execution_count": 30,
   "metadata": {},
   "outputs": [
    {
     "data": {
      "text/plain": [
       "<xarray.DataArray 'tas' (lat: 90, lon: 144)>\n",
       "array([[233.48705, 233.48735, 233.48793, ..., 233.45572, 233.45631, 233.43767],\n",
       "       [234.05307, 233.94182, 233.63   , ..., 234.50275, 234.31013, 234.15027],\n",
       "       [236.78702, 236.41496, 235.72119, ..., 237.50478, 237.20023, 237.0502 ],\n",
       "       ...,\n",
       "       [263.18103, 263.2934 , 263.36902, ..., 263.02756, 263.07593, 263.11346],\n",
       "       [262.93463, 263.03345, 263.04224, ..., 262.9179 , 262.8997 , 262.9565 ],\n",
       "       [262.81073, 262.8108 , 262.81204, ..., 262.81052, 262.81067, 262.8107 ]],\n",
       "      dtype=float32)\n",
       "Coordinates:\n",
       "    height   float64 2.0\n",
       "  * lat      (lat) float64 -89.49 -87.98 -85.96 -83.93 ... 85.96 87.98 89.49\n",
       "  * lon      (lon) float64 1.25 3.75 6.25 8.75 11.25 ... 351.3 353.8 356.2 358.8"
      ]
     },
     "execution_count": 30,
     "metadata": {},
     "output_type": "execute_result"
    }
   ],
   "source": [
    "# look at network monitor\n",
    "# download is interrumped at certain invertals, ¿maybe caused by server size limit?\n",
    "ds.tas.mean(dim='time').load()"
   ]
  },
  {
   "cell_type": "code",
   "execution_count": 46,
   "metadata": {},
   "outputs": [
    {
     "data": {
      "text/plain": [
       "<matplotlib.collections.QuadMesh at 0x7fd7d7cbd668>"
      ]
     },
     "execution_count": 46,
     "metadata": {},
     "output_type": "execute_result"
    },
    {
     "data": {
      "image/png": "[encoded data removed]",
      "text/plain": [
       "<Figure size 432x288 with 2 Axes>"
      ]
     },
     "metadata": {
      "needs_background": "light"
     },
     "output_type": "display_data"
    }
   ],
   "source": [
    "ds['tas'].sel(time='2095-12-10T03').plot()"
   ]
  },
  {
   "cell_type": "code",
   "execution_count": 7,
   "metadata": {},
   "outputs": [
    {
     "data": {
      "text/plain": [
       "Frozen(SortedKeysDict({}))"
      ]
     },
     "execution_count": 7,
     "metadata": {},
     "output_type": "execute_result"
    }
   ],
   "source": [
    "ds.chunks"
   ]
  },
  {
   "cell_type": "markdown",
   "metadata": {},
   "source": [
    "## chunked"
   ]
  },
  {
   "cell_type": "code",
   "execution_count": 8,
   "metadata": {},
   "outputs": [],
   "source": [
    "url = 'http://hsds.hdf.test/home/ecimadevilla/test/rechunked.nc'\n",
    "dsc = xarray.open_dataset(url, engine='h5netcdf', decode_cf=True)\n",
    "tas = dsc['tas']"
   ]
  },
  {
   "cell_type": "code",
   "execution_count": 9,
   "metadata": {},
   "outputs": [
    {
     "data": {
      "text/plain": [
       "{'chunksizes': (1460, 9, 30),\n",
       " 'fletcher32': False,\n",
       " 'shuffle': False,\n",
       " 'source': 'http://hsds.hdf.test/home/ecimadevilla/test/rechunked.nc',\n",
       " 'original_shape': (14600, 90, 144),\n",
       " 'dtype': dtype('float32'),\n",
       " 'missing_value': array([1.e+20], dtype=float32),\n",
       " '_FillValue': array([1.e+20], dtype=float32),\n",
       " 'coordinates': 'height'}"
      ]
     },
     "execution_count": 9,
     "metadata": {},
     "output_type": "execute_result"
    }
   ],
   "source": [
    "tas.encoding"
   ]
  },
  {
   "cell_type": "code",
   "execution_count": 10,
   "metadata": {},
   "outputs": [
    {
     "data": {
      "text/plain": [
       "Frozen(SortedKeysDict({}))"
      ]
     },
     "execution_count": 10,
     "metadata": {},
     "output_type": "execute_result"
    }
   ],
   "source": [
    "dsc.chunks # aunq el hdf5 sea chunked esto se refiere a chunks de Dask"
   ]
  },
  {
   "cell_type": "markdown",
   "metadata": {},
   "source": [
    "# dask"
   ]
  },
  {
   "cell_type": "code",
   "execution_count": 12,
   "metadata": {},
   "outputs": [],
   "source": [
    "import xarray"
   ]
  },
  {
   "cell_type": "code",
   "execution_count": 13,
   "metadata": {},
   "outputs": [],
   "source": [
    "url = 'http://hsds.hdf.test/home/ecimadevilla/test/rechunked.nc'\n",
    "ds = xarray.open_dataset(url, engine='h5netcdf', decode_cf=True, chunks={'time': 1460})"
   ]
  },
  {
   "cell_type": "code",
   "execution_count": 14,
   "metadata": {},
   "outputs": [
    {
     "data": {
      "text/plain": [
       "<xarray.Dataset>\n",
       "Dimensions:   (bnds: 2, lat: 90, lon: 144, time: 14600)\n",
       "Coordinates:\n",
       "    height    float64 ...\n",
       "  * lat       (lat) float64 -89.49 -87.98 -85.96 -83.93 ... 85.96 87.98 89.49\n",
       "  * lon       (lon) float64 1.25 3.75 6.25 8.75 ... 351.3 353.8 356.2 358.8\n",
       "  * time      (time) object 2096-01-01 03:00:00 ... 2101-01-01 00:00:00\n",
       "Dimensions without coordinates: bnds\n",
       "Data variables:\n",
       "    lat_bnds  (lat, bnds) float64 dask.array<shape=(90, 2), chunksize=(90, 2)>\n",
       "    lon_bnds  (lon, bnds) float64 dask.array<shape=(144, 2), chunksize=(144, 2)>\n",
       "    tas       (time, lat, lon) float32 dask.array<shape=(14600, 90, 144), chunksize=(1460, 90, 144)>\n",
       "Attributes:\n",
       "    Conventions:            CF-1.4\n",
       "    branch_time:            52925\n",
       "    comment:                GFDL experiment name = ESM2M-HC1_2006-2100_all_rc...\n",
       "    contact:                gfdl.climate.model.info@noaa.gov\n",
       "    creation_date:          2011-08-12T11:15:28Z\n",
       "    experiment:             RCP8.5\n",
       "    experiment_id:          rcp85\n",
       "    forcing:                GHG,SD,Oz,LU,SS,BC,MD,OC (GHG includes CO2, CH4, ...\n",
       "    frequency:              3hr\n",
       "    gfdl_experiment_name:   ESM2M-HC1_2006-2100_all_rcp85_ZC1\n",
       "    history:                File was processed by fremetar (GFDL analog of CM...\n",
       "    initialization_method:  [1]\n",
       "    institute_id:           NOAA GFDL\n",
       "    institution:            NOAA GFDL(201 Forrestal Rd, Princeton, NJ, 08540)\n",
       "    model_id:               GFDL-ESM2M\n",
       "    modeling_realm:         atmos\n",
       "    parent_experiment_id:   historical\n",
       "    parent_experiment_rip:  r1i1p1\n",
       "    physics_version:        [1]\n",
       "    product:                output1\n",
       "    project_id:             CMIP5\n",
       "    realization:            [1]\n",
       "    references:             The GFDL Data Portal (http://nomads.gfdl.noaa.gov...\n",
       "    source:                 GFDL-ESM2M 2010 ocean: MOM4 (MOM4p1_x1_Z50_cCM2M,...\n",
       "    table_id:               Table 3hr (31 Jan 2011)\n",
       "    title:                  NOAA GFDL GFDL-ESM2M, RCP8.5 (run 1) experiment o...\n",
       "    tracking_id:            ae418a5a-cd26-459b-93de-c73b7f4d188d"
      ]
     },
     "execution_count": 14,
     "metadata": {},
     "output_type": "execute_result"
    }
   ],
   "source": [
    "ds"
   ]
  },
  {
   "cell_type": "code",
   "execution_count": 15,
   "metadata": {},
   "outputs": [
    {
     "data": {
      "text/plain": [
       "Frozen(SortedKeysDict({'lat': (90,), 'bnds': (2,), 'lon': (144,), 'time': (1460, 1460, 1460, 1460, 1460, 1460, 1460, 1460, 1460, 1460)}))"
      ]
     },
     "execution_count": 15,
     "metadata": {},
     "output_type": "execute_result"
    }
   ],
   "source": [
    "ds.chunks"
   ]
  },
  {
   "cell_type": "code",
   "execution_count": 27,
   "metadata": {},
   "outputs": [
    {
     "ename": "AttributeError",
     "evalue": "'DataArray' object has no attribute 'visualize'",
     "output_type": "error",
     "traceback": [
      "\u001b[0;31m---------------------------------------------------------------------------\u001b[0m",
      "\u001b[0;31mAttributeError\u001b[0m                            Traceback (most recent call last)",
      "\u001b[0;32m<ipython-input-27-bcf90378c3a9>\u001b[0m in \u001b[0;36m<module>\u001b[0;34m\u001b[0m\n\u001b[1;32m      1\u001b[0m \u001b[0;32mimport\u001b[0m \u001b[0mdask\u001b[0m\u001b[0;34m.\u001b[0m\u001b[0marray\u001b[0m \u001b[0;32mas\u001b[0m \u001b[0mda\u001b[0m\u001b[0;34m\u001b[0m\u001b[0;34m\u001b[0m\u001b[0m\n\u001b[0;32m----> 2\u001b[0;31m \u001b[0mds\u001b[0m\u001b[0;34m[\u001b[0m\u001b[0;34m'tas'\u001b[0m\u001b[0;34m]\u001b[0m\u001b[0;34m.\u001b[0m\u001b[0mmean\u001b[0m\u001b[0;34m(\u001b[0m\u001b[0mdim\u001b[0m\u001b[0;34m=\u001b[0m\u001b[0;34m'time'\u001b[0m\u001b[0;34m)\u001b[0m\u001b[0;34m.\u001b[0m\u001b[0mvisualize\u001b[0m\u001b[0;34m(\u001b[0m\u001b[0;34m)\u001b[0m\u001b[0;34m\u001b[0m\u001b[0;34m\u001b[0m\u001b[0m\n\u001b[0m",
      "\u001b[0;32m~/miniconda3/envs/hsds/lib/python3.7/site-packages/xarray/core/common.py\u001b[0m in \u001b[0;36m__getattr__\u001b[0;34m(self, name)\u001b[0m\n\u001b[1;32m    177\u001b[0m                     \u001b[0;32mreturn\u001b[0m \u001b[0msource\u001b[0m\u001b[0;34m[\u001b[0m\u001b[0mname\u001b[0m\u001b[0;34m]\u001b[0m\u001b[0;34m\u001b[0m\u001b[0;34m\u001b[0m\u001b[0m\n\u001b[1;32m    178\u001b[0m         raise AttributeError(\"%r object has no attribute %r\" %\n\u001b[0;32m--> 179\u001b[0;31m                              (type(self).__name__, name))\n\u001b[0m\u001b[1;32m    180\u001b[0m \u001b[0;34m\u001b[0m\u001b[0m\n\u001b[1;32m    181\u001b[0m     \u001b[0;32mdef\u001b[0m \u001b[0m__setattr__\u001b[0m\u001b[0;34m(\u001b[0m\u001b[0mself\u001b[0m\u001b[0;34m,\u001b[0m \u001b[0mname\u001b[0m\u001b[0;34m,\u001b[0m \u001b[0mvalue\u001b[0m\u001b[0;34m)\u001b[0m\u001b[0;34m:\u001b[0m\u001b[0;34m\u001b[0m\u001b[0;34m\u001b[0m\u001b[0m\n",
      "\u001b[0;31mAttributeError\u001b[0m: 'DataArray' object has no attribute 'visualize'"
     ]
    }
   ],
   "source": [
    "import dask.array as da\n",
    "ds['tas'].mean(dim='time').visualize()"
   ]
  },
  {
   "cell_type": "code",
   "execution_count": 39,
   "metadata": {},
   "outputs": [
    {
     "name": "stdout",
     "output_type": "stream",
     "text": [
      "[########################################] | 100% Completed |  8min 53.3s\n"
     ]
    }
   ],
   "source": [
    "from dask.diagnostics import Profiler, ResourceProfiler, CacheProfiler, ProgressBar\n",
    "\n",
    "# every 50s it updates progess bar in 8%\n",
    "# if executed 2 times, it has to download again\n",
    "with Profiler() as prof, ResourceProfiler(dt=0.25) as rprof, CacheProfiler() as cprof, ProgressBar():\n",
    "    ds['tas'].mean(dim='time').load()"
   ]
  },
  {
   "cell_type": "code",
   "execution_count": 40,
   "metadata": {},
   "outputs": [
    {
     "data": {
      "text/html": [
       "<div style=\"display: table;\"><div style=\"display: table-row;\"><div style=\"display: table-cell;\"><b title=\"bokeh.models.layouts.Column\">Column</b>(</div><div style=\"display: table-cell;\">id&nbsp;=&nbsp;'5301', <span id=\"5866\" style=\"cursor: pointer;\">&hellip;)</span></div></div><div class=\"5865\" style=\"display: none;\"><div style=\"display: table-cell;\"></div><div style=\"display: table-cell;\">align&nbsp;=&nbsp;'start',</div></div><div class=\"5865\" style=\"display: none;\"><div style=\"display: table-cell;\"></div><div style=\"display: table-cell;\">aspect_ratio&nbsp;=&nbsp;None,</div></div><div class=\"5865\" style=\"display: none;\"><div style=\"display: table-cell;\"></div><div style=\"display: table-cell;\">background&nbsp;=&nbsp;None,</div></div><div class=\"5865\" style=\"display: none;\"><div style=\"display: table-cell;\"></div><div style=\"display: table-cell;\">children&nbsp;=&nbsp;[ToolbarBox(id='5300', ...), GridBox(id='5298', ...)],</div></div><div class=\"5865\" style=\"display: none;\"><div style=\"display: table-cell;\"></div><div style=\"display: table-cell;\">css_classes&nbsp;=&nbsp;[],</div></div><div class=\"5865\" style=\"display: none;\"><div style=\"display: table-cell;\"></div><div style=\"display: table-cell;\">disabled&nbsp;=&nbsp;False,</div></div><div class=\"5865\" style=\"display: none;\"><div style=\"display: table-cell;\"></div><div style=\"display: table-cell;\">height&nbsp;=&nbsp;None,</div></div><div class=\"5865\" style=\"display: none;\"><div style=\"display: table-cell;\"></div><div style=\"display: table-cell;\">height_policy&nbsp;=&nbsp;'auto',</div></div><div class=\"5865\" style=\"display: none;\"><div style=\"display: table-cell;\"></div><div style=\"display: table-cell;\">js_event_callbacks&nbsp;=&nbsp;{},</div></div><div class=\"5865\" style=\"display: none;\"><div style=\"display: table-cell;\"></div><div style=\"display: table-cell;\">js_property_callbacks&nbsp;=&nbsp;{},</div></div><div class=\"5865\" style=\"display: none;\"><div style=\"display: table-cell;\"></div><div style=\"display: table-cell;\">margin&nbsp;=&nbsp;(0, 0, 0, 0),</div></div><div class=\"5865\" style=\"display: none;\"><div style=\"display: table-cell;\"></div><div style=\"display: table-cell;\">max_height&nbsp;=&nbsp;None,</div></div><div class=\"5865\" style=\"display: none;\"><div style=\"display: table-cell;\"></div><div style=\"display: table-cell;\">max_width&nbsp;=&nbsp;None,</div></div><div class=\"5865\" style=\"display: none;\"><div style=\"display: table-cell;\"></div><div style=\"display: table-cell;\">min_height&nbsp;=&nbsp;None,</div></div><div class=\"5865\" style=\"display: none;\"><div style=\"display: table-cell;\"></div><div style=\"display: table-cell;\">min_width&nbsp;=&nbsp;None,</div></div><div class=\"5865\" style=\"display: none;\"><div style=\"display: table-cell;\"></div><div style=\"display: table-cell;\">name&nbsp;=&nbsp;None,</div></div><div class=\"5865\" style=\"display: none;\"><div style=\"display: table-cell;\"></div><div style=\"display: table-cell;\">rows&nbsp;=&nbsp;'auto',</div></div><div class=\"5865\" style=\"display: none;\"><div style=\"display: table-cell;\"></div><div style=\"display: table-cell;\">sizing_mode&nbsp;=&nbsp;None,</div></div><div class=\"5865\" style=\"display: none;\"><div style=\"display: table-cell;\"></div><div style=\"display: table-cell;\">spacing&nbsp;=&nbsp;0,</div></div><div class=\"5865\" style=\"display: none;\"><div style=\"display: table-cell;\"></div><div style=\"display: table-cell;\">subscribed_events&nbsp;=&nbsp;[],</div></div><div class=\"5865\" style=\"display: none;\"><div style=\"display: table-cell;\"></div><div style=\"display: table-cell;\">tags&nbsp;=&nbsp;[],</div></div><div class=\"5865\" style=\"display: none;\"><div style=\"display: table-cell;\"></div><div style=\"display: table-cell;\">visible&nbsp;=&nbsp;True,</div></div><div class=\"5865\" style=\"display: none;\"><div style=\"display: table-cell;\"></div><div style=\"display: table-cell;\">width&nbsp;=&nbsp;None,</div></div><div class=\"5865\" style=\"display: none;\"><div style=\"display: table-cell;\"></div><div style=\"display: table-cell;\">width_policy&nbsp;=&nbsp;'auto')</div></div></div>\n",
       "<script>\n",
       "(function() {\n",
       "  var expanded = false;\n",
       "  var ellipsis = document.getElementById(\"5866\");\n",
       "  ellipsis.addEventListener(\"click\", function() {\n",
       "    var rows = document.getElementsByClassName(\"5865\");\n",
       "    for (var i = 0; i < rows.length; i++) {\n",
       "      var el = rows[i];\n",
       "      el.style.display = expanded ? \"none\" : \"table-row\";\n",
       "    }\n",
       "    ellipsis.innerHTML = expanded ? \"&hellip;)\" : \"&lsaquo;&lsaquo;&lsaquo;\";\n",
       "    expanded = !expanded;\n",
       "  });\n",
       "})();\n",
       "</script>\n"
      ],
      "text/plain": [
       "Column(id='5301', ...)"
      ]
     },
     "execution_count": 40,
     "metadata": {},
     "output_type": "execute_result"
    }
   ],
   "source": [
    "from dask.diagnostics import visualize\n",
    "\n",
    "# benchmarkChunkedLocalscheduler.html\n",
    "visualize([prof, rprof, cprof])"
   ]
  },
  {
   "cell_type": "code",
   "execution_count": null,
   "metadata": {},
   "outputs": [],
   "source": []
  },
  {
   "cell_type": "code",
   "execution_count": null,
   "metadata": {},
   "outputs": [],
   "source": []
  },
  {
   "cell_type": "code",
   "execution_count": null,
   "metadata": {},
   "outputs": [],
   "source": []
  },
  {
   "cell_type": "code",
   "execution_count": null,
   "metadata": {},
   "outputs": [],
   "source": []
  },
  {
   "cell_type": "code",
   "execution_count": null,
   "metadata": {},
   "outputs": [],
   "source": []
  },
  {
   "cell_type": "code",
   "execution_count": null,
   "metadata": {},
   "outputs": [],
   "source": []
  },
  {
   "cell_type": "markdown",
   "metadata": {},
   "source": [
    "## dask cmip6"
   ]
  },
  {
   "cell_type": "code",
   "execution_count": 1,
   "metadata": {},
   "outputs": [],
   "source": [
    "import h5pyd, xarray"
   ]
  },
  {
   "cell_type": "code",
   "execution_count": 11,
   "metadata": {},
   "outputs": [
    {
     "data": {
      "text/plain": [
       "['https://esg1.umr-cnrm.fr/thredds/dodsC/CMIP6_CNRM/CMIP/CNRM-CERFACS/CNRM-ESM2-1/historical/r1i1p1f2/AERhr/tas/gr/v20181206/tas_AERhr_CNRM-ESM2-1_historical_r1i1p1f2_gr_200501010030-200912312330.nc']"
      ]
     },
     "execution_count": 11,
     "metadata": {},
     "output_type": "execute_result"
    }
   ],
   "source": [
    "ranges = ['200501010030-200912312330'] #,'201001010030-201412312330'] # memory error #, '20190330_0000', '20190331_0000']\n",
    "base = 'https://esg1.umr-cnrm.fr/thredds/dodsC/CMIP6_CNRM/CMIP/CNRM-CERFACS/CNRM-ESM2-1/historical/r1i1p1f2/AERhr/tas/gr/v20181206/tas_AERhr_CNRM-ESM2-1_historical_r1i1p1f2_gr'\n",
    "urls = [f'{base}_{time_range}.nc'\n",
    "        for time_range in ranges]\n",
    "urls"
   ]
  },
  {
   "cell_type": "code",
   "execution_count": 3,
   "metadata": {},
   "outputs": [],
   "source": [
    "# using netcdf4 (pydap does not work)\n",
    "ds = xarray.open_mfdataset(urls, engine=\"netcdf4\", chunks={'time': 1000})"
   ]
  },
  {
   "cell_type": "code",
   "execution_count": 4,
   "metadata": {},
   "outputs": [
    {
     "data": {
      "text/plain": [
       "Frozen(SortedKeysDict({'time': (1000, 1000, 1000, 1000, 1000, 1000, 1000, 1000, 1000, 1000, 1000, 1000, 1000, 1000, 1000, 1000, 1000, 1000, 1000, 1000, 1000, 1000, 1000, 1000, 1000, 1000, 1000, 1000, 1000, 1000, 1000, 1000, 1000, 1000, 1000, 1000, 1000, 1000, 1000, 1000, 1000, 1000, 1000, 824, 1000, 1000, 1000, 1000, 1000, 1000, 1000, 1000, 1000, 1000, 1000, 1000, 1000, 1000, 1000, 1000, 1000, 1000, 1000, 1000, 1000, 1000, 1000, 1000, 1000, 1000, 1000, 1000, 1000, 1000, 1000, 1000, 1000, 1000, 1000, 1000, 1000, 1000, 1000, 1000, 1000, 1000, 1000, 824), 'axis_nbounds': (2,), 'lat': (128,), 'lon': (256,)}))"
      ]
     },
     "execution_count": 4,
     "metadata": {},
     "output_type": "execute_result"
    }
   ],
   "source": [
    "ds.chunks"
   ]
  },
  {
   "cell_type": "code",
   "execution_count": 5,
   "metadata": {},
   "outputs": [
    {
     "data": {
      "text/plain": [
       "<xarray.Dataset>\n",
       "Dimensions:      (axis_nbounds: 2, lat: 128, lon: 256, time: 87648)\n",
       "Coordinates:\n",
       "  * lat          (lat) float64 -88.93 -87.54 -86.14 -84.74 ... 86.14 87.54 88.93\n",
       "  * lon          (lon) float64 0.0 1.406 2.812 4.219 ... 354.4 355.8 357.2 358.6\n",
       "    height       float64 2.0\n",
       "  * time         (time) datetime64[ns] 2005-01-01T00:30:00 ... 2014-12-31T23:30:00\n",
       "Dimensions without coordinates: axis_nbounds\n",
       "Data variables:\n",
       "    time_bounds  (time, axis_nbounds) datetime64[ns] dask.array<shape=(87648, 2), chunksize=(1000, 2)>\n",
       "    tas          (time, lat, lon) float32 dask.array<shape=(87648, 128, 256), chunksize=(1000, 128, 256)>\n",
       "Attributes:\n",
       "    Conventions:                     CF-1.7 CMIP-6.2\n",
       "    creation_date:                   2018-10-25T06:19:05Z\n",
       "    description:                     CMIP6 historical\n",
       "    title:                           CNRM-ESM2-1 model output prepared for CM...\n",
       "    activity_id:                     CMIP\n",
       "    contact:                         contact.cmip@meteo.fr\n",
       "    data_specs_version:              01.00.21\n",
       "    dr2xml_version:                  1.13\n",
       "    experiment_id:                   historical\n",
       "    experiment:                      all-forcing simulation of the recent past\n",
       "    external_variables:              areacella\n",
       "    forcing_index:                   2\n",
       "    frequency:                       1hr\n",
       "    further_info_url:                https://furtherinfo.es-doc.org/CMIP6.CNR...\n",
       "    grid:                            data regridded to a T127 gaussian grid (...\n",
       "    grid_label:                      gr\n",
       "    nominal_resolution:              250 km\n",
       "    initialization_index:            1\n",
       "    institution_id:                  CNRM-CERFACS\n",
       "    institution:                     CNRM (Centre National de Recherches Mete...\n",
       "    license:                         CMIP6 model data produced by CNRM-CERFAC...\n",
       "    mip_era:                         CMIP6\n",
       "    parent_experiment_id:            piControl\n",
       "    parent_mip_era:                  CMIP6\n",
       "    parent_activity_id:              CMIP\n",
       "    parent_source_id:                CNRM-ESM2-1\n",
       "    parent_time_units:               days since 1850-01-01 00:00:00\n",
       "    parent_variant_label:            r1i1p1f2\n",
       "    branch_method:                   standard\n",
       "    branch_time_in_parent:           0.0\n",
       "    branch_time_in_child:            0.0\n",
       "    physics_index:                   1\n",
       "    product:                         model-output\n",
       "    realization_index:               1\n",
       "    realm:                           atmos\n",
       "    references:                      http://www.umr-cnrm.fr/cmip6/references\n",
       "    source:                          CNRM-ESM2-1 (2017):  aerosol: TACTIC_v2 ...\n",
       "    source_id:                       CNRM-ESM2-1\n",
       "    source_type:                     AOGCM BGC AER CHEM\n",
       "    sub_experiment_id:               none\n",
       "    sub_experiment:                  none\n",
       "    table_id:                        AERhr\n",
       "    variable_id:                     tas\n",
       "    variant_label:                   r1i1p1f2\n",
       "    EXPID:                           CNRM-ESM2-1_historical_r1i1p1f2_v2\n",
       "    CMIP6_CV_version:                cv=6.2.3.0-7-g2019642\n",
       "    dr2xml_md5sum:                   92ddb3d0d8ce79f498d792fc8e559dcf\n",
       "    xios_commit:                     1442-shuffle\n",
       "    nemo_gelato_commit:              49095b3accd5d4c_6524fe19b00467a\n",
       "    arpege_minor_version:            6.3.2\n",
       "    history:                         none\n",
       "    tracking_id:                     hdl:21.14100/a1bfcd09-15bf-4600-94bf-667...\n",
       "    DODS_EXTRA.Unlimited_Dimension:  time"
      ]
     },
     "execution_count": 5,
     "metadata": {},
     "output_type": "execute_result"
    }
   ],
   "source": [
    "ds"
   ]
  },
  {
   "cell_type": "code",
   "execution_count": null,
   "metadata": {},
   "outputs": [],
   "source": [
    "ds['tas'].mean(dim='time').load()"
   ]
  },
  {
   "cell_type": "code",
   "execution_count": null,
   "metadata": {},
   "outputs": [],
   "source": []
  }
 ],
 "metadata": {
  "kernelspec": {
   "display_name": "Python 3",
   "language": "python",
   "name": "python3"
  },
  "language_info": {
   "codemirror_mode": {
    "name": "ipython",
    "version": 3
   },
   "file_extension": ".py",
   "mimetype": "text/x-python",
   "name": "python",
   "nbconvert_exporter": "python",
   "pygments_lexer": "ipython3",
   "version": "3.7.2"
  }
 },
 "nbformat": 4,
 "nbformat_minor": 2
}
