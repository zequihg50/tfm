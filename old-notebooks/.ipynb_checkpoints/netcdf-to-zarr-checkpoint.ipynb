{
 "cells": [
  {
   "cell_type": "code",
   "execution_count": 1,
   "metadata": {},
   "outputs": [],
   "source": [
    "import dask, xarray"
   ]
  },
  {
   "cell_type": "code",
   "execution_count": 2,
   "metadata": {},
   "outputs": [
    {
     "data": {
      "text/plain": [
       "<xarray.Dataset>\n",
       "Dimensions:    (bnds: 2, lat: 180, lon: 288, time: 420)\n",
       "Coordinates:\n",
       "  * bnds       (bnds) float64 1.0 2.0\n",
       "    height     float64 ...\n",
       "  * lat        (lat) float64 -89.5 -88.5 -87.5 -86.5 ... 86.5 87.5 88.5 89.5\n",
       "  * lon        (lon) float64 0.625 1.875 3.125 4.375 ... 355.6 356.9 358.1 359.4\n",
       "  * time       (time) object 1980-01-16 12:00:00 ... 2014-12-16 12:00:00\n",
       "Data variables:\n",
       "    lat_bnds   (lat, bnds) float64 ...\n",
       "    lon_bnds   (lon, bnds) float64 ...\n",
       "    tas        (time, lat, lon) float32 ...\n",
       "    time_bnds  (time, bnds) object ...\n",
       "Attributes:\n",
       "    title:                 NOAA GFDL GFDL-AM4 model output prepared for CMIP6...\n",
       "    history:               File was processed by fremetar (GFDL analog of CMO...\n",
       "    table_id:              Amon\n",
       "    contact:               gfdl.climate.model.info@noaa.gov\n",
       "    comment:               <null ref>\n",
       "    tracking_id:           hdl:21.14100/3b95ceac-9bd6-42c9-a130-130fc1ba108c\n",
       "    further_info_url:      https://furtherinfo.es-doc.org/CMIP6.NOAA-GFDL.GFD...\n",
       "    branch_time_in_child:  0.0\n",
       "    branch_method:         no parent\n",
       "    creation_date:         2018-08-07T17:02:18Z\n",
       "    Conventions:           CF-1.7 CMIP-6.0 UGRID-1.0\n",
       "    sub_experiment:        none\n",
       "    frequency:             monC\n",
       "    forcing_index:         1\n",
       "    physics_index:         1\n",
       "    initialization_index:  1\n",
       "    realization_index:     1\n",
       "    parent_variant_label:  no parent\n",
       "    parent_experiment_id:  no parent\n",
       "    data_specs_version:    01.00.27\n",
       "    experiment_id:         amip\n",
       "    experiment:            AMIP\n",
       "    activity_id:           CMIP\n",
       "    source_id:             GFDL-AM4\n",
       "    source_type:           AGCM\n",
       "    institution_id:        NOAA-GFDL\n",
       "    institution:           National Oceanic and Atmospheric Administration, G...\n",
       "    variable_id:           tas\n",
       "    variant_info:          N/A\n",
       "    mip_era:               CMIP6\n",
       "    source:                \"GFDL-AM4 (2017): aerosol: interactive;atmos: GFDL...\n",
       "    parent_activity_id:    no parent\n",
       "    parent_mip_era:        no parent\n",
       "    parent_source_id:      no parent\n",
       "    parent_time_units:     no parent\n",
       "    sub_experiment_id:     none\n",
       "    grid:                  atmos data regridded from Cubed-sphere (c96) to 18...\n",
       "    variant_label:         r1i1p1f1\n",
       "    grid_label:            gr1\n",
       "    license:               CMIP6 model data produced by NOAA-GFDL is licensed...\n",
       "    nominal_resolution:    100 km\n",
       "    product:               model-output\n",
       "    realm:                 atmos\n",
       "    references:            see further_info_url attribute"
      ]
     },
     "execution_count": 2,
     "metadata": {},
     "output_type": "execute_result"
    }
   ],
   "source": [
    "file = '../data/original/tas_AERhr_CNRM-ESM2-1_historical_r1i1p1f2_gr_185001010030-185412312330.nc'\n",
    "ds = xarray.open_dataset(file, engine='netcdf4')\n",
    "ds"
   ]
  },
  {
   "cell_type": "code",
   "execution_count": 3,
   "metadata": {},
   "outputs": [],
   "source": [
    "import zarr"
   ]
  },
  {
   "cell_type": "code",
   "execution_count": 4,
   "metadata": {},
   "outputs": [
    {
     "data": {
      "text/plain": [
       "<xarray.backends.zarr.ZarrStore at 0x7f6b449ceb70>"
      ]
     },
     "execution_count": 4,
     "metadata": {},
     "output_type": "execute_result"
    }
   ],
   "source": [
    "dest = '../data/test/zarr'\n",
    "ds.to_zarr(dest)"
   ]
  },
  {
   "cell_type": "code",
   "execution_count": null,
   "metadata": {},
   "outputs": [],
   "source": []
  }
 ],
 "metadata": {
  "kernelspec": {
   "display_name": "Python 3",
   "language": "python",
   "name": "python3"
  },
  "language_info": {
   "codemirror_mode": {
    "name": "ipython",
    "version": 3
   },
   "file_extension": ".py",
   "mimetype": "text/x-python",
   "name": "python",
   "nbconvert_exporter": "python",
   "pygments_lexer": "ipython3",
   "version": "3.7.2"
  }
 },
 "nbformat": 4,
 "nbformat_minor": 2
}
