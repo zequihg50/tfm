{
 "cells": [
  {
   "cell_type": "markdown",
   "metadata": {},
   "source": [
    "# Test de acceso local\n",
    "\n",
    "Este notebook muestra el acceso a los datasets climáticos en forma local, mediante dos casos de uso: netcdf4-python y zarr."
   ]
  },
  {
   "cell_type": "code",
   "execution_count": 1,
   "metadata": {},
   "outputs": [],
   "source": [
    "import dask\n",
    "from dask.diagnostics import ProgressBar\n",
    "import xarray\n",
    "import matplotlib\n",
    "import zarr\n",
    "\n",
    "%matplotlib inline"
   ]
  },
  {
   "cell_type": "markdown",
   "metadata": {},
   "source": [
    "## Creación de los datos"
   ]
  },
  {
   "cell_type": "markdown",
   "metadata": {},
   "source": [
    "```python\n",
    "file = 'shared/original/tas_AERhr_CNRM-ESM2-1_historical_r1i1p1f2_gr_199501010030-199912312330.nc' # uncompress first!!\n",
    "ds = xarray.open_dataset(file, engine='netcdf4')\n",
    "\n",
    "dest = 'shared/zarr/tas_AERhr_CNRM-ESM2-1_historical_r1i1p1f2_gr_199501010030-199912312330'\n",
    "ds.to_zarr(dest) # disable compression!!\n",
    "```"
   ]
  },
  {
   "cell_type": "markdown",
   "metadata": {},
   "source": [
    "## NetCDF4"
   ]
  },
  {
   "cell_type": "code",
   "execution_count": 5,
   "metadata": {},
   "outputs": [
    {
     "data": {
      "text/plain": [
       "<xarray.Dataset>\n",
       "Dimensions:      (axis_nbounds: 2, lat: 128, lon: 256, time: 43824)\n",
       "Coordinates:\n",
       "  * lat          (lat) float64 -88.93 -87.54 -86.14 -84.74 ... 86.14 87.54 88.93\n",
       "  * lon          (lon) float64 0.0 1.406 2.812 4.219 ... 354.4 355.8 357.2 358.6\n",
       "    height       float64 ...\n",
       "  * time         (time) datetime64[ns] 1995-01-01T00:30:00 ... 1999-12-31T23:30:00\n",
       "Dimensions without coordinates: axis_nbounds\n",
       "Data variables:\n",
       "    time_bounds  (time, axis_nbounds) datetime64[ns] dask.array<shape=(43824, 2), chunksize=(43824, 2)>\n",
       "    tas          (time, lat, lon) float32 dask.array<shape=(43824, 128, 256), chunksize=(43824, 128, 256)>\n",
       "Attributes:\n",
       "    Conventions:            CF-1.7 CMIP-6.2\n",
       "    creation_date:          2018-10-22T04:25:03Z\n",
       "    description:            CMIP6 historical\n",
       "    title:                  CNRM-ESM2-1 model output prepared for CMIP6 / CMI...\n",
       "    activity_id:            CMIP\n",
       "    contact:                contact.cmip@meteo.fr\n",
       "    data_specs_version:     01.00.21\n",
       "    dr2xml_version:         1.13\n",
       "    experiment_id:          historical\n",
       "    experiment:             all-forcing simulation of the recent past\n",
       "    external_variables:     areacella\n",
       "    forcing_index:          2\n",
       "    frequency:              1hr\n",
       "    further_info_url:       https://furtherinfo.es-doc.org/CMIP6.CNRM-CERFACS...\n",
       "    grid:                   data regridded to a T127 gaussian grid (128x256 l...\n",
       "    grid_label:             gr\n",
       "    nominal_resolution:     250 km\n",
       "    initialization_index:   1\n",
       "    institution_id:         CNRM-CERFACS\n",
       "    institution:            CNRM (Centre National de Recherches Meteorologiqu...\n",
       "    license:                CMIP6 model data produced by CNRM-CERFACS is lice...\n",
       "    mip_era:                CMIP6\n",
       "    parent_experiment_id:   piControl\n",
       "    parent_mip_era:         CMIP6\n",
       "    parent_activity_id:     CMIP\n",
       "    parent_source_id:       CNRM-ESM2-1\n",
       "    parent_time_units:      days since 1850-01-01 00:00:00\n",
       "    parent_variant_label:   r1i1p1f2\n",
       "    branch_method:          standard\n",
       "    branch_time_in_parent:  0.0\n",
       "    branch_time_in_child:   0.0\n",
       "    physics_index:          1\n",
       "    product:                model-output\n",
       "    realization_index:      1\n",
       "    realm:                  atmos\n",
       "    references:             http://www.umr-cnrm.fr/cmip6/references\n",
       "    source:                 CNRM-ESM2-1 (2017):  aerosol: TACTIC_v2 atmos: Ar...\n",
       "    source_id:              CNRM-ESM2-1\n",
       "    source_type:            AOGCM BGC AER CHEM\n",
       "    sub_experiment_id:      none\n",
       "    sub_experiment:         none\n",
       "    table_id:               AERhr\n",
       "    variable_id:            tas\n",
       "    variant_label:          r1i1p1f2\n",
       "    EXPID:                  CNRM-ESM2-1_historical_r1i1p1f2_v2\n",
       "    CMIP6_CV_version:       cv=6.2.3.0-7-g2019642\n",
       "    dr2xml_md5sum:          92ddb3d0d8ce79f498d792fc8e559dcf\n",
       "    xios_commit:            1442-shuffle\n",
       "    nemo_gelato_commit:     49095b3accd5d4c_6524fe19b00467a\n",
       "    arpege_minor_version:   6.3.2\n",
       "    history:                none\n",
       "    tracking_id:            hdl:21.14100/3e3356ff-7baf-4652-a87b-e7791e6683dd"
      ]
     },
     "execution_count": 5,
     "metadata": {},
     "output_type": "execute_result"
    }
   ],
   "source": [
    "data = 'shared/original/tas_AERhr_CNRM-ESM2-1_historical_r1i1p1f2_gr_199501010030-199912312330.nc'\n",
    "ds = xarray.open_dataset(data, engine=\"netcdf4\", chunks={})\n",
    "ds"
   ]
  },
  {
   "cell_type": "code",
   "execution_count": 9,
   "metadata": {},
   "outputs": [
    {
     "name": "stdout",
     "output_type": "stream",
     "text": [
      "[########################################] | 100% Completed |  1min 26.0s\n"
     ]
    }
   ],
   "source": [
    "with ProgressBar():\n",
    "    ds['tas'].mean(dim='time').load()"
   ]
  },
  {
   "cell_type": "markdown",
   "metadata": {},
   "source": [
    "## Zarr"
   ]
  },
  {
   "cell_type": "code",
   "execution_count": 11,
   "metadata": {},
   "outputs": [
    {
     "data": {
      "text/plain": [
       "<xarray.Dataset>\n",
       "Dimensions:      (axis_nbounds: 2, lat: 128, lon: 256, time: 43824)\n",
       "Coordinates:\n",
       "    height       float64 ...\n",
       "  * lat          (lat) float64 -88.93 -87.54 -86.14 -84.74 ... 86.14 87.54 88.93\n",
       "  * lon          (lon) float64 0.0 1.406 2.812 4.219 ... 354.4 355.8 357.2 358.6\n",
       "  * time         (time) datetime64[ns] 1995-01-01T00:30:00 ... 1999-12-31T23:30:00\n",
       "Dimensions without coordinates: axis_nbounds\n",
       "Data variables:\n",
       "    tas          (time, lat, lon) float32 dask.array<shape=(43824, 128, 256), chunksize=(2739, 8, 32)>\n",
       "    time_bounds  (time, axis_nbounds) datetime64[ns] dask.array<shape=(43824, 2), chunksize=(21912, 1)>\n",
       "Attributes:\n",
       "    CMIP6_CV_version:       cv=6.2.3.0-7-g2019642\n",
       "    Conventions:            CF-1.7 CMIP-6.2\n",
       "    EXPID:                  CNRM-ESM2-1_historical_r1i1p1f2_v2\n",
       "    activity_id:            CMIP\n",
       "    arpege_minor_version:   6.3.2\n",
       "    branch_method:          standard\n",
       "    branch_time_in_child:   0.0\n",
       "    branch_time_in_parent:  0.0\n",
       "    contact:                contact.cmip@meteo.fr\n",
       "    creation_date:          2018-10-22T04:25:03Z\n",
       "    data_specs_version:     01.00.21\n",
       "    description:            CMIP6 historical\n",
       "    dr2xml_md5sum:          92ddb3d0d8ce79f498d792fc8e559dcf\n",
       "    dr2xml_version:         1.13\n",
       "    experiment:             all-forcing simulation of the recent past\n",
       "    experiment_id:          historical\n",
       "    external_variables:     areacella\n",
       "    forcing_index:          2\n",
       "    frequency:              1hr\n",
       "    further_info_url:       https://furtherinfo.es-doc.org/CMIP6.CNRM-CERFACS...\n",
       "    grid:                   data regridded to a T127 gaussian grid (128x256 l...\n",
       "    grid_label:             gr\n",
       "    history:                none\n",
       "    initialization_index:   1\n",
       "    institution:            CNRM (Centre National de Recherches Meteorologiqu...\n",
       "    institution_id:         CNRM-CERFACS\n",
       "    license:                CMIP6 model data produced by CNRM-CERFACS is lice...\n",
       "    mip_era:                CMIP6\n",
       "    nemo_gelato_commit:     49095b3accd5d4c_6524fe19b00467a\n",
       "    nominal_resolution:     250 km\n",
       "    parent_activity_id:     CMIP\n",
       "    parent_experiment_id:   piControl\n",
       "    parent_mip_era:         CMIP6\n",
       "    parent_source_id:       CNRM-ESM2-1\n",
       "    parent_time_units:      days since 1850-01-01 00:00:00\n",
       "    parent_variant_label:   r1i1p1f2\n",
       "    physics_index:          1\n",
       "    product:                model-output\n",
       "    realization_index:      1\n",
       "    realm:                  atmos\n",
       "    references:             http://www.umr-cnrm.fr/cmip6/references\n",
       "    source:                 CNRM-ESM2-1 (2017):  aerosol: TACTIC_v2 atmos: Ar...\n",
       "    source_id:              CNRM-ESM2-1\n",
       "    source_type:            AOGCM BGC AER CHEM\n",
       "    sub_experiment:         none\n",
       "    sub_experiment_id:      none\n",
       "    table_id:               AERhr\n",
       "    title:                  CNRM-ESM2-1 model output prepared for CMIP6 / CMI...\n",
       "    tracking_id:            hdl:21.14100/3e3356ff-7baf-4652-a87b-e7791e6683dd\n",
       "    variable_id:            tas\n",
       "    variant_label:          r1i1p1f2\n",
       "    xios_commit:            1442-shuffle"
      ]
     },
     "execution_count": 11,
     "metadata": {},
     "output_type": "execute_result"
    }
   ],
   "source": [
    "ds = xarray.open_zarr('shared/zarr/tas_AERhr_CNRM-ESM2-1_historical_r1i1p1f2_gr_199501010030-199912312330')\n",
    "ds"
   ]
  },
  {
   "cell_type": "code",
   "execution_count": 12,
   "metadata": {},
   "outputs": [
    {
     "name": "stdout",
     "output_type": "stream",
     "text": [
      "[########################################] | 100% Completed |  1min  3.5s\n"
     ]
    }
   ],
   "source": [
    "with ProgressBar():\n",
    "    ds['tas'].mean(dim='time').load()"
   ]
  }
 ],
 "metadata": {
  "kernelspec": {
   "display_name": "Python 3",
   "language": "python",
   "name": "python3"
  },
  "language_info": {
   "codemirror_mode": {
    "name": "ipython",
    "version": 3
   },
   "file_extension": ".py",
   "mimetype": "text/x-python",
   "name": "python",
   "nbconvert_exporter": "python",
   "pygments_lexer": "ipython3",
   "version": "3.7.3"
  }
 },
 "nbformat": 4,
 "nbformat_minor": 2
}
