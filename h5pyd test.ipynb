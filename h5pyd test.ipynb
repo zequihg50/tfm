{
 "cells": [
  {
   "cell_type": "code",
   "execution_count": 1,
   "metadata": {},
   "outputs": [],
   "source": [
    "import h5pyd"
   ]
  },
  {
   "cell_type": "code",
   "execution_count": 4,
   "metadata": {},
   "outputs": [
    {
     "data": {
      "text/plain": [
       "<HDF5 file \"tas_3hr_GFDL-ESM2M_rcp85_r1i1p1_2096010100-2100123123.nc4\" (mode r)>"
      ]
     },
     "execution_count": 4,
     "metadata": {},
     "output_type": "execute_result"
    }
   ],
   "source": [
    "file = h5pyd.File('/home/ecimadevilla/test/tas_3hr_GFDL-ESM2M_rcp85_r1i1p1_2096010100-2100123123.nc4', 'r')"
   ]
  },
  {
   "cell_type": "code",
   "execution_count": 23,
   "metadata": {},
   "outputs": [
    {
     "data": {
      "text/plain": [
       "{'datasets': ['d-a48415b3-f9e0a385-2c11-117d01-44de88',\n",
       "  'd-a48415b3-f9e0a385-3036-7f7382-124906',\n",
       "  'd-a48415b3-f9e0a385-683b-9a3591-3b6b88',\n",
       "  'd-a48415b3-f9e0a385-6a30-cc3393-81fb85',\n",
       "  'd-a48415b3-f9e0a385-7f01-138d36-a5c922',\n",
       "  'd-a48415b3-f9e0a385-a67f-612f7e-e9c4d2',\n",
       "  'd-a48415b3-f9e0a385-b5bb-cf1901-010494',\n",
       "  'd-a48415b3-f9e0a385-dd75-70b380-f70581'],\n",
       " 'hrefs': [{'rel': 'self',\n",
       "   'href': 'http://hsds.hdf.test/datasets?domain=/home/ecimadevilla/test/tas_3hr_GFDL-ESM2M_rcp85_r1i1p1_2096010100-2100123123.nc4'},\n",
       "  {'rel': 'root',\n",
       "   'href': 'http://hsds.hdf.test/groups/g-a48415b3-f9e0a385-2c0c-9d3b71-682b0d?domain=/home/ecimadevilla/test/tas_3hr_GFDL-ESM2M_rcp85_r1i1p1_2096010100-2100123123.nc4'},\n",
       "  {'rel': 'home',\n",
       "   'href': 'http://hsds.hdf.test/?domain=/home/ecimadevilla/test/tas_3hr_GFDL-ESM2M_rcp85_r1i1p1_2096010100-2100123123.nc4'}]}"
      ]
     },
     "execution_count": 23,
     "metadata": {},
     "output_type": "execute_result"
    }
   ],
   "source": [
    "file.GET('/datasets')"
   ]
  },
  {
   "cell_type": "code",
   "execution_count": 31,
   "metadata": {},
   "outputs": [
    {
     "data": {
      "text/plain": [
       "{'value': [-89.49438202247192,\n",
       "  -87.97752808988764,\n",
       "  -85.95505617977527,\n",
       "  -83.93258426966293,\n",
       "  -81.91011235955057,\n",
       "  -79.88764044943821,\n",
       "  -77.86516853932585,\n",
       "  -75.84269662921348,\n",
       "  -73.82022471910112,\n",
       "  -71.79775280898876,\n",
       "  -69.7752808988764,\n",
       "  -67.75280898876404,\n",
       "  -65.73033707865169,\n",
       "  -63.707865168539335,\n",
       "  -61.68539325842697,\n",
       "  -59.662921348314605,\n",
       "  -57.64044943820225,\n",
       "  -55.61797752808988,\n",
       "  -53.59550561797753,\n",
       "  -51.573033707865164,\n",
       "  -49.5505617977528,\n",
       "  -47.52808988764045,\n",
       "  -45.50561797752808,\n",
       "  -43.48314606741573,\n",
       "  -41.46067415730337,\n",
       "  -39.43820224719101,\n",
       "  -37.41573033707865,\n",
       "  -35.39325842696629,\n",
       "  -33.370786516853926,\n",
       "  -31.348314606741578,\n",
       "  -29.325842696629216,\n",
       "  -27.303370786516854,\n",
       "  -25.280898876404496,\n",
       "  -23.258426966292138,\n",
       "  -21.235955056179776,\n",
       "  -19.213483146067418,\n",
       "  -17.19101123595506,\n",
       "  -15.168539325842703,\n",
       "  -13.146067415730343,\n",
       "  -11.123595505617978,\n",
       "  -9.101123595505612,\n",
       "  -7.078651685393254,\n",
       "  -5.056179775280896,\n",
       "  -3.0337078651685374,\n",
       "  -1.0112359550561791,\n",
       "  1.0112359550561791,\n",
       "  3.0337078651685374,\n",
       "  5.056179775280896,\n",
       "  7.078651685393254,\n",
       "  9.101123595505612,\n",
       "  11.123595505617978,\n",
       "  13.146067415730343,\n",
       "  15.168539325842703,\n",
       "  17.19101123595506,\n",
       "  19.213483146067418,\n",
       "  21.235955056179776,\n",
       "  23.258426966292138,\n",
       "  25.280898876404496,\n",
       "  27.30337078651685,\n",
       "  29.325842696629206,\n",
       "  31.34831460674157,\n",
       "  33.370786516853926,\n",
       "  35.3932584269663,\n",
       "  37.41573033707866,\n",
       "  39.43820224719101,\n",
       "  41.46067415730337,\n",
       "  43.48314606741573,\n",
       "  45.50561797752808,\n",
       "  47.52808988764045,\n",
       "  49.5505617977528,\n",
       "  51.573033707865164,\n",
       "  53.59550561797752,\n",
       "  55.61797752808988,\n",
       "  57.64044943820224,\n",
       "  59.66292134831459,\n",
       "  61.685393258426956,\n",
       "  63.70786516853931,\n",
       "  65.73033707865167,\n",
       "  67.75280898876404,\n",
       "  69.77528089887642,\n",
       "  71.79775280898878,\n",
       "  73.82022471910113,\n",
       "  75.84269662921349,\n",
       "  77.86516853932585,\n",
       "  79.88764044943821,\n",
       "  81.91011235955057,\n",
       "  83.93258426966293,\n",
       "  85.95505617977527,\n",
       "  87.97752808988764,\n",
       "  89.49438202247192],\n",
       " 'hrefs': [{'rel': 'self',\n",
       "   'href': 'http://hsds.hdf.test/datasets/d-a48415b3-f9e0a385-a67f-612f7e-e9c4d2/value?domain=/home/ecimadevilla/test/tas_3hr_GFDL-ESM2M_rcp85_r1i1p1_2096010100-2100123123.nc4'},\n",
       "  {'rel': 'root',\n",
       "   'href': 'http://hsds.hdf.test/groups/g-a48415b3-f9e0a385-2c0c-9d3b71-682b0d?domain=/home/ecimadevilla/test/tas_3hr_GFDL-ESM2M_rcp85_r1i1p1_2096010100-2100123123.nc4'},\n",
       "  {'rel': 'home',\n",
       "   'href': 'http://hsds.hdf.test/?domain=/home/ecimadevilla/test/tas_3hr_GFDL-ESM2M_rcp85_r1i1p1_2096010100-2100123123.nc4'},\n",
       "  {'rel': 'owner',\n",
       "   'href': 'http://hsds.hdf.test/datasets/d-a48415b3-f9e0a385-a67f-612f7e-e9c4d2?domain=/home/ecimadevilla/test/tas_3hr_GFDL-ESM2M_rcp85_r1i1p1_2096010100-2100123123.nc4'}]}"
      ]
     },
     "execution_count": 31,
     "metadata": {},
     "output_type": "execute_result"
    }
   ],
   "source": [
    "file.GET('/datasets/d-a48415b3-f9e0a385-a67f-612f7e-e9c4d2/value')"
   ]
  }
 ],
 "metadata": {
  "kernelspec": {
   "display_name": "Python 3",
   "language": "python",
   "name": "python3"
  },
  "language_info": {
   "codemirror_mode": {
    "name": "ipython",
    "version": 3
   },
   "file_extension": ".py",
   "mimetype": "text/x-python",
   "name": "python",
   "nbconvert_exporter": "python",
   "pygments_lexer": "ipython3",
   "version": "3.7.2"
  }
 },
 "nbformat": 4,
 "nbformat_minor": 2
}
